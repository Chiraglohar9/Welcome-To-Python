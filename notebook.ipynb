{
 "cells": [
  {
   "cell_type": "markdown",
   "id": "bb5a82d7",
   "metadata": {},
   "source": [
    "# My Custom Notebook"
   ]
  },
  {
   "cell_type": "code",
   "execution_count": null,
   "id": "69ddb6ae",
   "metadata": {},
   "outputs": [],
   "source": [
    "\n",
    "def greet(name):\n",
    "    return f\"Hello, {name}!\"\n"
   ]
  },
  {
   "cell_type": "code",
   "execution_count": null,
   "id": "a18389f9",
   "metadata": {},
   "outputs": [],
   "source": [
    "\n",
    "message = greet(\"Alice\")\n",
    "print(message)\n"
   ]
  }
 ],
 "metadata": {},
 "nbformat": 4,
 "nbformat_minor": 5
}
